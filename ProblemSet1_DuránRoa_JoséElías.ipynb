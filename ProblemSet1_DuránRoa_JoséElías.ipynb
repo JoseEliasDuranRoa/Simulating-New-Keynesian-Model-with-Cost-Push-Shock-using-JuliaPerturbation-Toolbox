{
  "cells": [
    {
      "cell_type": "markdown",
      "metadata": {
        "id": "view-in-github",
        "colab_type": "text"
      },
      "source": [
        "<a href=\"https://colab.research.google.com/github/JoseEliasDuranRoa/Simulating-New-Keynesian-Model-with-Cost-Push-Shock-using-JuliaPerturbation-Toolbox/blob/main/ProblemSet1_Dur%C3%A1nRoa_Jos%C3%A9El%C3%ADas.ipynb\" target=\"_parent\"><img src=\"https://colab.research.google.com/assets/colab-badge.svg\" alt=\"Open In Colab\"/></a>"
      ]
    },
    {
      "cell_type": "markdown",
      "metadata": {
        "id": "3sCXUlrzsVSO"
      },
      "source": [
        "* Please make a copy of this notebook and replace \"LastName\" and \"FirstName\" in the title with your own names. Also, write your name in the following text block.\n",
        "\n",
        "* Then, fill in the file with your code and comments on the results.\n",
        "\n",
        "* Finally, share your completed work with me by sending the link via email as your final submission, no later than **January 6th, 2025**.\n",
        "\n",
        "* You can contact me if you have any questions. If necessary, we can meet either face-to-face or via online video calls to resolve them.\n",
        "\n",
        "---"
      ]
    },
    {
      "cell_type": "markdown",
      "metadata": {
        "id": "VV3W-LfmuYKH"
      },
      "source": [
        "**Last Name:** Durán Roa\n",
        "\n",
        "\n",
        "**First Name:** José Elías\n",
        "\n",
        "\n",
        "\n",
        "---"
      ]
    },
    {
      "cell_type": "markdown",
      "metadata": {
        "id": "Nvmh06fkTI8E"
      },
      "source": [
        "# Problem 1: Prediction\n",
        "\n",
        "\n"
      ]
    },
    {
      "cell_type": "markdown",
      "metadata": {
        "id": "Pq1cmVH8TPb-"
      },
      "source": [
        "In the shared subfolder \"Problem1\" you will find .zip files with datasets (and information about them). You must fill the \"Choose_Dataset\" file with your choice. You *cannot* choose an option previouly selected by somebody else. But note that in some cases you can choose among different subsamples of the same dataset."
      ]
    },
    {
      "cell_type": "markdown",
      "metadata": {
        "id": "CRnKjifbpV8M"
      },
      "source": [
        "## a)\n",
        "\n",
        "* Read the data; pay attention to use the right data type for each variable."
      ]
    },
    {
      "cell_type": "code",
      "execution_count": 7,
      "metadata": {
        "id": "-szv296bqaHF"
      },
      "outputs": [],
      "source": [
        "#Import modules\n",
        "import zipfile, os\n",
        "import pandas as pd\n",
        "import numpy as np\n",
        "pd.__version__\n",
        "\n",
        "#from google.colab import drive\n",
        "\n",
        "# Import the data\n",
        "zip_file_path = '/content/drive/My Drive/chennai.zip'\n",
        "housing = pd.read_csv(zipfile.ZipFile(zip_file_path).extract('Chennai_housing_sale_2.csv'), index_col = 0)\n",
        "\n",
        "#Correct data type\n",
        "housing['DATE_SALE'] = pd.to_datetime(housing['DATE_SALE'])\n",
        "housing['DATE_BUILD'] = pd.to_datetime(housing['DATE_BUILD'])"
      ]
    },
    {
      "cell_type": "code",
      "source": [
        "housing.describe()"
      ],
      "metadata": {
        "colab": {
          "base_uri": "https://localhost:8080/",
          "height": 320
        },
        "id": "sFhQpqk2Ju6g",
        "outputId": "453f45af-4b2b-40d3-8e97-da13be338b6e"
      },
      "execution_count": 13,
      "outputs": [
        {
          "output_type": "execute_result",
          "data": {
            "text/plain": [
              "          INT_SQFT  DIST_MAINROAD    N_BEDROOM   N_BATHROOM       N_ROOM  \\\n",
              "count  5331.000000    5323.000000  5319.000000  5330.000000  5331.000000   \n",
              "mean   1384.132433      99.276724     1.634894     1.212570     3.692178   \n",
              "std     459.970950      58.162912     0.813223     0.409165     1.027380   \n",
              "min     500.000000       0.000000     1.000000     1.000000     2.000000   \n",
              "25%     990.000000      48.500000     1.000000     1.000000     3.000000   \n",
              "50%    1363.000000      98.000000     1.000000     1.000000     4.000000   \n",
              "75%    1749.000000     149.000000     2.000000     1.000000     4.000000   \n",
              "max    2496.000000     200.000000     4.000000     2.000000     6.000000   \n",
              "\n",
              "          QS_ROOMS  QS_BATHROOM   QS_BEDROOM   QS_OVERALL        REG_FEE  \\\n",
              "count  5331.000000  5331.000000  5331.000000  5285.000000    5331.000000   \n",
              "mean      3.504971     3.514988     3.471300     3.494244  376469.471019   \n",
              "std       0.899030     0.903528     0.881812     0.528255  140722.218102   \n",
              "min       2.000000     2.000000     2.000000     2.000000   71177.000000   \n",
              "25%       2.700000     2.700000     2.700000     3.110000  272191.000000   \n",
              "50%       3.500000     3.500000     3.400000     3.500000  353577.000000   \n",
              "75%       4.300000     4.300000     4.200000     3.870000  451230.000000   \n",
              "max       5.000000     5.000000     5.000000     4.950000  983922.000000   \n",
              "\n",
              "              COMMIS   SALES_PRICE  \n",
              "count    5331.000000  5.331000e+03  \n",
              "mean   140087.972050  1.090387e+07  \n",
              "std     78873.426851  3.720762e+06  \n",
              "min      5378.000000  2.156875e+06  \n",
              "25%     82771.500000  8.309780e+06  \n",
              "50%    128213.000000  1.044440e+07  \n",
              "75%    185065.000000  1.303956e+07  \n",
              "max    495405.000000  2.366734e+07  "
            ],
            "text/html": [
              "\n",
              "  <div id=\"df-2577b650-3686-4652-82b6-5c48cf5fa237\" class=\"colab-df-container\">\n",
              "    <div>\n",
              "<style scoped>\n",
              "    .dataframe tbody tr th:only-of-type {\n",
              "        vertical-align: middle;\n",
              "    }\n",
              "\n",
              "    .dataframe tbody tr th {\n",
              "        vertical-align: top;\n",
              "    }\n",
              "\n",
              "    .dataframe thead th {\n",
              "        text-align: right;\n",
              "    }\n",
              "</style>\n",
              "<table border=\"1\" class=\"dataframe\">\n",
              "  <thead>\n",
              "    <tr style=\"text-align: right;\">\n",
              "      <th></th>\n",
              "      <th>INT_SQFT</th>\n",
              "      <th>DIST_MAINROAD</th>\n",
              "      <th>N_BEDROOM</th>\n",
              "      <th>N_BATHROOM</th>\n",
              "      <th>N_ROOM</th>\n",
              "      <th>QS_ROOMS</th>\n",
              "      <th>QS_BATHROOM</th>\n",
              "      <th>QS_BEDROOM</th>\n",
              "      <th>QS_OVERALL</th>\n",
              "      <th>REG_FEE</th>\n",
              "      <th>COMMIS</th>\n",
              "      <th>SALES_PRICE</th>\n",
              "    </tr>\n",
              "  </thead>\n",
              "  <tbody>\n",
              "    <tr>\n",
              "      <th>count</th>\n",
              "      <td>5331.000000</td>\n",
              "      <td>5323.000000</td>\n",
              "      <td>5319.000000</td>\n",
              "      <td>5330.000000</td>\n",
              "      <td>5331.000000</td>\n",
              "      <td>5331.000000</td>\n",
              "      <td>5331.000000</td>\n",
              "      <td>5331.000000</td>\n",
              "      <td>5285.000000</td>\n",
              "      <td>5331.000000</td>\n",
              "      <td>5331.000000</td>\n",
              "      <td>5.331000e+03</td>\n",
              "    </tr>\n",
              "    <tr>\n",
              "      <th>mean</th>\n",
              "      <td>1384.132433</td>\n",
              "      <td>99.276724</td>\n",
              "      <td>1.634894</td>\n",
              "      <td>1.212570</td>\n",
              "      <td>3.692178</td>\n",
              "      <td>3.504971</td>\n",
              "      <td>3.514988</td>\n",
              "      <td>3.471300</td>\n",
              "      <td>3.494244</td>\n",
              "      <td>376469.471019</td>\n",
              "      <td>140087.972050</td>\n",
              "      <td>1.090387e+07</td>\n",
              "    </tr>\n",
              "    <tr>\n",
              "      <th>std</th>\n",
              "      <td>459.970950</td>\n",
              "      <td>58.162912</td>\n",
              "      <td>0.813223</td>\n",
              "      <td>0.409165</td>\n",
              "      <td>1.027380</td>\n",
              "      <td>0.899030</td>\n",
              "      <td>0.903528</td>\n",
              "      <td>0.881812</td>\n",
              "      <td>0.528255</td>\n",
              "      <td>140722.218102</td>\n",
              "      <td>78873.426851</td>\n",
              "      <td>3.720762e+06</td>\n",
              "    </tr>\n",
              "    <tr>\n",
              "      <th>min</th>\n",
              "      <td>500.000000</td>\n",
              "      <td>0.000000</td>\n",
              "      <td>1.000000</td>\n",
              "      <td>1.000000</td>\n",
              "      <td>2.000000</td>\n",
              "      <td>2.000000</td>\n",
              "      <td>2.000000</td>\n",
              "      <td>2.000000</td>\n",
              "      <td>2.000000</td>\n",
              "      <td>71177.000000</td>\n",
              "      <td>5378.000000</td>\n",
              "      <td>2.156875e+06</td>\n",
              "    </tr>\n",
              "    <tr>\n",
              "      <th>25%</th>\n",
              "      <td>990.000000</td>\n",
              "      <td>48.500000</td>\n",
              "      <td>1.000000</td>\n",
              "      <td>1.000000</td>\n",
              "      <td>3.000000</td>\n",
              "      <td>2.700000</td>\n",
              "      <td>2.700000</td>\n",
              "      <td>2.700000</td>\n",
              "      <td>3.110000</td>\n",
              "      <td>272191.000000</td>\n",
              "      <td>82771.500000</td>\n",
              "      <td>8.309780e+06</td>\n",
              "    </tr>\n",
              "    <tr>\n",
              "      <th>50%</th>\n",
              "      <td>1363.000000</td>\n",
              "      <td>98.000000</td>\n",
              "      <td>1.000000</td>\n",
              "      <td>1.000000</td>\n",
              "      <td>4.000000</td>\n",
              "      <td>3.500000</td>\n",
              "      <td>3.500000</td>\n",
              "      <td>3.400000</td>\n",
              "      <td>3.500000</td>\n",
              "      <td>353577.000000</td>\n",
              "      <td>128213.000000</td>\n",
              "      <td>1.044440e+07</td>\n",
              "    </tr>\n",
              "    <tr>\n",
              "      <th>75%</th>\n",
              "      <td>1749.000000</td>\n",
              "      <td>149.000000</td>\n",
              "      <td>2.000000</td>\n",
              "      <td>1.000000</td>\n",
              "      <td>4.000000</td>\n",
              "      <td>4.300000</td>\n",
              "      <td>4.300000</td>\n",
              "      <td>4.200000</td>\n",
              "      <td>3.870000</td>\n",
              "      <td>451230.000000</td>\n",
              "      <td>185065.000000</td>\n",
              "      <td>1.303956e+07</td>\n",
              "    </tr>\n",
              "    <tr>\n",
              "      <th>max</th>\n",
              "      <td>2496.000000</td>\n",
              "      <td>200.000000</td>\n",
              "      <td>4.000000</td>\n",
              "      <td>2.000000</td>\n",
              "      <td>6.000000</td>\n",
              "      <td>5.000000</td>\n",
              "      <td>5.000000</td>\n",
              "      <td>5.000000</td>\n",
              "      <td>4.950000</td>\n",
              "      <td>983922.000000</td>\n",
              "      <td>495405.000000</td>\n",
              "      <td>2.366734e+07</td>\n",
              "    </tr>\n",
              "  </tbody>\n",
              "</table>\n",
              "</div>\n",
              "    <div class=\"colab-df-buttons\">\n",
              "\n",
              "  <div class=\"colab-df-container\">\n",
              "    <button class=\"colab-df-convert\" onclick=\"convertToInteractive('df-2577b650-3686-4652-82b6-5c48cf5fa237')\"\n",
              "            title=\"Convert this dataframe to an interactive table.\"\n",
              "            style=\"display:none;\">\n",
              "\n",
              "  <svg xmlns=\"http://www.w3.org/2000/svg\" height=\"24px\" viewBox=\"0 -960 960 960\">\n",
              "    <path d=\"M120-120v-720h720v720H120Zm60-500h600v-160H180v160Zm220 220h160v-160H400v160Zm0 220h160v-160H400v160ZM180-400h160v-160H180v160Zm440 0h160v-160H620v160ZM180-180h160v-160H180v160Zm440 0h160v-160H620v160Z\"/>\n",
              "  </svg>\n",
              "    </button>\n",
              "\n",
              "  <style>\n",
              "    .colab-df-container {\n",
              "      display:flex;\n",
              "      gap: 12px;\n",
              "    }\n",
              "\n",
              "    .colab-df-convert {\n",
              "      background-color: #E8F0FE;\n",
              "      border: none;\n",
              "      border-radius: 50%;\n",
              "      cursor: pointer;\n",
              "      display: none;\n",
              "      fill: #1967D2;\n",
              "      height: 32px;\n",
              "      padding: 0 0 0 0;\n",
              "      width: 32px;\n",
              "    }\n",
              "\n",
              "    .colab-df-convert:hover {\n",
              "      background-color: #E2EBFA;\n",
              "      box-shadow: 0px 1px 2px rgba(60, 64, 67, 0.3), 0px 1px 3px 1px rgba(60, 64, 67, 0.15);\n",
              "      fill: #174EA6;\n",
              "    }\n",
              "\n",
              "    .colab-df-buttons div {\n",
              "      margin-bottom: 4px;\n",
              "    }\n",
              "\n",
              "    [theme=dark] .colab-df-convert {\n",
              "      background-color: #3B4455;\n",
              "      fill: #D2E3FC;\n",
              "    }\n",
              "\n",
              "    [theme=dark] .colab-df-convert:hover {\n",
              "      background-color: #434B5C;\n",
              "      box-shadow: 0px 1px 3px 1px rgba(0, 0, 0, 0.15);\n",
              "      filter: drop-shadow(0px 1px 2px rgba(0, 0, 0, 0.3));\n",
              "      fill: #FFFFFF;\n",
              "    }\n",
              "  </style>\n",
              "\n",
              "    <script>\n",
              "      const buttonEl =\n",
              "        document.querySelector('#df-2577b650-3686-4652-82b6-5c48cf5fa237 button.colab-df-convert');\n",
              "      buttonEl.style.display =\n",
              "        google.colab.kernel.accessAllowed ? 'block' : 'none';\n",
              "\n",
              "      async function convertToInteractive(key) {\n",
              "        const element = document.querySelector('#df-2577b650-3686-4652-82b6-5c48cf5fa237');\n",
              "        const dataTable =\n",
              "          await google.colab.kernel.invokeFunction('convertToInteractive',\n",
              "                                                    [key], {});\n",
              "        if (!dataTable) return;\n",
              "\n",
              "        const docLinkHtml = 'Like what you see? Visit the ' +\n",
              "          '<a target=\"_blank\" href=https://colab.research.google.com/notebooks/data_table.ipynb>data table notebook</a>'\n",
              "          + ' to learn more about interactive tables.';\n",
              "        element.innerHTML = '';\n",
              "        dataTable['output_type'] = 'display_data';\n",
              "        await google.colab.output.renderOutput(dataTable, element);\n",
              "        const docLink = document.createElement('div');\n",
              "        docLink.innerHTML = docLinkHtml;\n",
              "        element.appendChild(docLink);\n",
              "      }\n",
              "    </script>\n",
              "  </div>\n",
              "\n",
              "\n",
              "<div id=\"df-7b3a4ef1-7f00-4839-9950-a7ef6af4b37d\">\n",
              "  <button class=\"colab-df-quickchart\" onclick=\"quickchart('df-7b3a4ef1-7f00-4839-9950-a7ef6af4b37d')\"\n",
              "            title=\"Suggest charts\"\n",
              "            style=\"display:none;\">\n",
              "\n",
              "<svg xmlns=\"http://www.w3.org/2000/svg\" height=\"24px\"viewBox=\"0 0 24 24\"\n",
              "     width=\"24px\">\n",
              "    <g>\n",
              "        <path d=\"M19 3H5c-1.1 0-2 .9-2 2v14c0 1.1.9 2 2 2h14c1.1 0 2-.9 2-2V5c0-1.1-.9-2-2-2zM9 17H7v-7h2v7zm4 0h-2V7h2v10zm4 0h-2v-4h2v4z\"/>\n",
              "    </g>\n",
              "</svg>\n",
              "  </button>\n",
              "\n",
              "<style>\n",
              "  .colab-df-quickchart {\n",
              "      --bg-color: #E8F0FE;\n",
              "      --fill-color: #1967D2;\n",
              "      --hover-bg-color: #E2EBFA;\n",
              "      --hover-fill-color: #174EA6;\n",
              "      --disabled-fill-color: #AAA;\n",
              "      --disabled-bg-color: #DDD;\n",
              "  }\n",
              "\n",
              "  [theme=dark] .colab-df-quickchart {\n",
              "      --bg-color: #3B4455;\n",
              "      --fill-color: #D2E3FC;\n",
              "      --hover-bg-color: #434B5C;\n",
              "      --hover-fill-color: #FFFFFF;\n",
              "      --disabled-bg-color: #3B4455;\n",
              "      --disabled-fill-color: #666;\n",
              "  }\n",
              "\n",
              "  .colab-df-quickchart {\n",
              "    background-color: var(--bg-color);\n",
              "    border: none;\n",
              "    border-radius: 50%;\n",
              "    cursor: pointer;\n",
              "    display: none;\n",
              "    fill: var(--fill-color);\n",
              "    height: 32px;\n",
              "    padding: 0;\n",
              "    width: 32px;\n",
              "  }\n",
              "\n",
              "  .colab-df-quickchart:hover {\n",
              "    background-color: var(--hover-bg-color);\n",
              "    box-shadow: 0 1px 2px rgba(60, 64, 67, 0.3), 0 1px 3px 1px rgba(60, 64, 67, 0.15);\n",
              "    fill: var(--button-hover-fill-color);\n",
              "  }\n",
              "\n",
              "  .colab-df-quickchart-complete:disabled,\n",
              "  .colab-df-quickchart-complete:disabled:hover {\n",
              "    background-color: var(--disabled-bg-color);\n",
              "    fill: var(--disabled-fill-color);\n",
              "    box-shadow: none;\n",
              "  }\n",
              "\n",
              "  .colab-df-spinner {\n",
              "    border: 2px solid var(--fill-color);\n",
              "    border-color: transparent;\n",
              "    border-bottom-color: var(--fill-color);\n",
              "    animation:\n",
              "      spin 1s steps(1) infinite;\n",
              "  }\n",
              "\n",
              "  @keyframes spin {\n",
              "    0% {\n",
              "      border-color: transparent;\n",
              "      border-bottom-color: var(--fill-color);\n",
              "      border-left-color: var(--fill-color);\n",
              "    }\n",
              "    20% {\n",
              "      border-color: transparent;\n",
              "      border-left-color: var(--fill-color);\n",
              "      border-top-color: var(--fill-color);\n",
              "    }\n",
              "    30% {\n",
              "      border-color: transparent;\n",
              "      border-left-color: var(--fill-color);\n",
              "      border-top-color: var(--fill-color);\n",
              "      border-right-color: var(--fill-color);\n",
              "    }\n",
              "    40% {\n",
              "      border-color: transparent;\n",
              "      border-right-color: var(--fill-color);\n",
              "      border-top-color: var(--fill-color);\n",
              "    }\n",
              "    60% {\n",
              "      border-color: transparent;\n",
              "      border-right-color: var(--fill-color);\n",
              "    }\n",
              "    80% {\n",
              "      border-color: transparent;\n",
              "      border-right-color: var(--fill-color);\n",
              "      border-bottom-color: var(--fill-color);\n",
              "    }\n",
              "    90% {\n",
              "      border-color: transparent;\n",
              "      border-bottom-color: var(--fill-color);\n",
              "    }\n",
              "  }\n",
              "</style>\n",
              "\n",
              "  <script>\n",
              "    async function quickchart(key) {\n",
              "      const quickchartButtonEl =\n",
              "        document.querySelector('#' + key + ' button');\n",
              "      quickchartButtonEl.disabled = true;  // To prevent multiple clicks.\n",
              "      quickchartButtonEl.classList.add('colab-df-spinner');\n",
              "      try {\n",
              "        const charts = await google.colab.kernel.invokeFunction(\n",
              "            'suggestCharts', [key], {});\n",
              "      } catch (error) {\n",
              "        console.error('Error during call to suggestCharts:', error);\n",
              "      }\n",
              "      quickchartButtonEl.classList.remove('colab-df-spinner');\n",
              "      quickchartButtonEl.classList.add('colab-df-quickchart-complete');\n",
              "    }\n",
              "    (() => {\n",
              "      let quickchartButtonEl =\n",
              "        document.querySelector('#df-7b3a4ef1-7f00-4839-9950-a7ef6af4b37d button');\n",
              "      quickchartButtonEl.style.display =\n",
              "        google.colab.kernel.accessAllowed ? 'block' : 'none';\n",
              "    })();\n",
              "  </script>\n",
              "</div>\n",
              "\n",
              "    </div>\n",
              "  </div>\n"
            ],
            "application/vnd.google.colaboratory.intrinsic+json": {
              "type": "dataframe",
              "summary": "{\n  \"name\": \"housing\",\n  \"rows\": 8,\n  \"fields\": [\n    {\n      \"column\": \"INT_SQFT\",\n      \"properties\": {\n        \"dtype\": \"number\",\n        \"std\": 1579.2700775789629,\n        \"min\": 459.9709495073402,\n        \"max\": 5331.0,\n        \"num_unique_values\": 8,\n        \"samples\": [\n          1384.132432939411,\n          1363.0,\n          5331.0\n        ],\n        \"semantic_type\": \"\",\n        \"description\": \"\"\n      }\n    },\n    {\n      \"column\": \"DIST_MAINROAD\",\n      \"properties\": {\n        \"dtype\": \"number\",\n        \"std\": 1850.0093909364994,\n        \"min\": 0.0,\n        \"max\": 5323.0,\n        \"num_unique_values\": 8,\n        \"samples\": [\n          99.2767236520759,\n          98.0,\n          5323.0\n        ],\n        \"semantic_type\": \"\",\n        \"description\": \"\"\n      }\n    },\n    {\n      \"column\": \"N_BEDROOM\",\n      \"properties\": {\n        \"dtype\": \"number\",\n        \"std\": 1879.972556531959,\n        \"min\": 0.8132232326579288,\n        \"max\": 5319.0,\n        \"num_unique_values\": 6,\n        \"samples\": [\n          5319.0,\n          1.6348937770257568,\n          4.0\n        ],\n        \"semantic_type\": \"\",\n        \"description\": \"\"\n      }\n    },\n    {\n      \"column\": \"N_BATHROOM\",\n      \"properties\": {\n        \"dtype\": \"number\",\n        \"std\": 1884.0546668841282,\n        \"min\": 0.4091645269082078,\n        \"max\": 5330.0,\n        \"num_unique_values\": 5,\n        \"samples\": [\n          1.2125703564727954,\n          2.0,\n          0.4091645269082078\n        ],\n        \"semantic_type\": \"\",\n        \"description\": \"\"\n      }\n    },\n    {\n      \"column\": \"N_ROOM\",\n      \"properties\": {\n        \"dtype\": \"number\",\n        \"std\": 1883.5956873999887,\n        \"min\": 1.0273797538472365,\n        \"max\": 5331.0,\n        \"num_unique_values\": 7,\n        \"samples\": [\n          5331.0,\n          3.692177827799662,\n          4.0\n        ],\n        \"semantic_type\": \"\",\n        \"description\": \"\"\n      }\n    },\n    {\n      \"column\": \"QS_ROOMS\",\n      \"properties\": {\n        \"dtype\": \"number\",\n        \"std\": 1883.6872453388282,\n        \"min\": 0.899029941097277,\n        \"max\": 5331.0,\n        \"num_unique_values\": 8,\n        \"samples\": [\n          3.5049709247795913,\n          3.5,\n          5331.0\n        ],\n        \"semantic_type\": \"\",\n        \"description\": \"\"\n      }\n    },\n    {\n      \"column\": \"QS_BATHROOM\",\n      \"properties\": {\n        \"dtype\": \"number\",\n        \"std\": 1883.6865117598236,\n        \"min\": 0.9035278443508861,\n        \"max\": 5331.0,\n        \"num_unique_values\": 8,\n        \"samples\": [\n          3.5149878071656353,\n          3.5,\n          5331.0\n        ],\n        \"semantic_type\": \"\",\n        \"description\": \"\"\n      }\n    },\n    {\n      \"column\": \"QS_BEDROOM\",\n      \"properties\": {\n        \"dtype\": \"number\",\n        \"std\": 1883.699907864428,\n        \"min\": 0.881812146973325,\n        \"max\": 5331.0,\n        \"num_unique_values\": 8,\n        \"samples\": [\n          3.4712999437253798,\n          3.4,\n          5331.0\n        ],\n        \"semantic_type\": \"\",\n        \"description\": \"\"\n      }\n    },\n    {\n      \"column\": \"QS_OVERALL\",\n      \"properties\": {\n        \"dtype\": \"number\",\n        \"std\": 1867.4466190546104,\n        \"min\": 0.5282546471204377,\n        \"max\": 5285.0,\n        \"num_unique_values\": 8,\n        \"samples\": [\n          3.494244087038789,\n          3.5,\n          5285.0\n        ],\n        \"semantic_type\": \"\",\n        \"description\": \"\"\n      }\n    },\n    {\n      \"column\": \"REG_FEE\",\n      \"properties\": {\n        \"dtype\": \"number\",\n        \"std\": 306260.0502904451,\n        \"min\": 5331.0,\n        \"max\": 983922.0,\n        \"num_unique_values\": 8,\n        \"samples\": [\n          376469.47101857065,\n          353577.0,\n          5331.0\n        ],\n        \"semantic_type\": \"\",\n        \"description\": \"\"\n      }\n    },\n    {\n      \"column\": \"COMMIS\",\n      \"properties\": {\n        \"dtype\": \"number\",\n        \"std\": 156640.04814752168,\n        \"min\": 5331.0,\n        \"max\": 495405.0,\n        \"num_unique_values\": 8,\n        \"samples\": [\n          140087.972050272,\n          128213.0,\n          5331.0\n        ],\n        \"semantic_type\": \"\",\n        \"description\": \"\"\n      }\n    },\n    {\n      \"column\": \"SALES_PRICE\",\n      \"properties\": {\n        \"dtype\": \"number\",\n        \"std\": 7495059.4872787455,\n        \"min\": 5331.0,\n        \"max\": 23667340.0,\n        \"num_unique_values\": 8,\n        \"samples\": [\n          10903868.027574563,\n          10444400.0,\n          5331.0\n        ],\n        \"semantic_type\": \"\",\n        \"description\": \"\"\n      }\n    }\n  ]\n}"
            }
          },
          "metadata": {},
          "execution_count": 13
        }
      ]
    },
    {
      "cell_type": "markdown",
      "metadata": {
        "id": "CQQswJ_vqewa"
      },
      "source": [
        "## b)\n",
        "\n",
        "* Create a Pandas series your the outcome variable and a Pandas data frame with those variables that you consider as relevant predictors (probably, most of them). Additionally, you can think about transforming some of them (eg., join categories with few observations, generating dummies, etc.).\n",
        "\n",
        "* Split your sample into a training set and a testing set.\n"
      ]
    },
    {
      "cell_type": "code",
      "execution_count": null,
      "metadata": {
        "id": "MtnG9awxsPFK"
      },
      "outputs": [],
      "source": [
        "# Your code here"
      ]
    },
    {
      "cell_type": "markdown",
      "metadata": {
        "id": "ygnu8OWGu8Z7"
      },
      "source": [
        "## c)\n",
        "\n",
        "* Estimate a linear regression model by OLS using your preferred specification or specifications for prediction. You can use pre-processing steps if necessary (for polynomials, interactions, dealing with NAs, etc.). Comment on the results.\n",
        "\n",
        "* Obtain the RMSE and the MAE as metrics of predictive performance of the model(s).\n",
        "\n"
      ]
    },
    {
      "cell_type": "code",
      "execution_count": null,
      "metadata": {
        "id": "AFNLYgKXxIhI"
      },
      "outputs": [],
      "source": [
        "# Your code here"
      ]
    },
    {
      "cell_type": "markdown",
      "metadata": {
        "id": "zv5ygljNxSCY"
      },
      "source": [
        "\n",
        "> Your comments here\n"
      ]
    },
    {
      "cell_type": "markdown",
      "metadata": {
        "id": "P_yFFRDUxMZk"
      },
      "source": [
        "## d)\n",
        "\n",
        "* Estimate a LASSO model using the pre-processing steps that you consider necessary. Note that you must choose the optimal value of the penalization hyperparameter by cross-validation before estimating the best LASSO model (which use that value)\n",
        "\n",
        "* Comment on the results.\n",
        "\n",
        "* Obtain the RMSE and the MAE as metrics of predictive performance of the model."
      ]
    },
    {
      "cell_type": "code",
      "execution_count": null,
      "metadata": {
        "id": "-OkF6a3_0E7m"
      },
      "outputs": [],
      "source": [
        "# Your code here"
      ]
    },
    {
      "cell_type": "markdown",
      "metadata": {
        "id": "YikTmDqz0E7r"
      },
      "source": [
        "\n",
        "> Your comments here\n"
      ]
    },
    {
      "cell_type": "markdown",
      "metadata": {
        "id": "lH9-Fyly0RWD"
      },
      "source": [
        "## e)\n",
        "\n",
        "* Estimate a regression tree model using the pre-processing steps that you consider necessary. Note that you must choose the optimal value of the hyperparameters by cross-validation before estimating the best tree model. You can focus on tuning the cost-complexity parameter; you can fix the `min_samples_leaf` to a value of your choice (you can try a few of them before choosing one).\n",
        "\n",
        "* Show a figure with the resulting tree. Comment on the results.\n",
        "\n",
        "* Show in a table the variable importance according to this model (you can also provide a figure if you want). Comment on the results.\n",
        "\n",
        "* Obtain the RMSE and the MAE as metrics of predictive performance of the model."
      ]
    },
    {
      "cell_type": "code",
      "execution_count": null,
      "metadata": {
        "id": "vOt_n0iS0RWE"
      },
      "outputs": [],
      "source": [
        "# Your code here"
      ]
    },
    {
      "cell_type": "markdown",
      "metadata": {
        "id": "wFJ8O1Zi0RWI"
      },
      "source": [
        "\n",
        "> Your comments here\n"
      ]
    },
    {
      "cell_type": "markdown",
      "metadata": {
        "id": "zIj5HjBX2oDF"
      },
      "source": [
        "## f)\n",
        "\n",
        "* Estimate a random forest model using the pre-processing steps that you consider necessary. Note that you must choose the optimal value of the hyperparameters by cross-validation before estimating the best model. You can focus on tuning either `min_samples_leaf` or `max_features`, but you should try a few of the other one.\n",
        "\n",
        "* Show in a table the variable importance according to this model (you can also provide a figure if you want). Comment on the results.\n",
        "\n",
        "* Obtain the RMSE and the MAE as metrics of predictive performance of the model."
      ]
    },
    {
      "cell_type": "code",
      "execution_count": null,
      "metadata": {
        "id": "wRROLaMg2oDI"
      },
      "outputs": [],
      "source": [
        "# Your code here"
      ]
    },
    {
      "cell_type": "markdown",
      "metadata": {
        "id": "veJ6pfD72oDL"
      },
      "source": [
        "\n",
        "> Your comments here\n"
      ]
    },
    {
      "cell_type": "markdown",
      "metadata": {
        "id": "asl1OAFb3VDt"
      },
      "source": [
        "## g)\n",
        "\n",
        "Finally, discuss which prediction model is the best one. Also, briefly comment on any other key insights you can learn from one or more of these models.\n"
      ]
    },
    {
      "cell_type": "markdown",
      "metadata": {
        "id": "hygtE6IK3vg5"
      },
      "source": [
        "\n",
        "> Your comments here\n"
      ]
    },
    {
      "cell_type": "markdown",
      "metadata": {
        "id": "_EMPyvjd3xVw"
      },
      "source": [
        "---"
      ]
    },
    {
      "cell_type": "markdown",
      "metadata": {
        "id": "aalgEbkr5-u4"
      },
      "source": [
        "# Problem 2: Financial Investment"
      ]
    },
    {
      "cell_type": "markdown",
      "metadata": {
        "id": "ADo_xUO191pV"
      },
      "source": [
        "* This problem is **optional**. Completing it will give you 1 extra point."
      ]
    },
    {
      "cell_type": "markdown",
      "metadata": {
        "id": "k3KGtsX_AyGR"
      },
      "source": [
        "* We are interested in estimating the effect of participation in 401(k) pension plans on employees’ net financial assets. The dataset [pension.csv](https://raw.githubusercontent.com/albarran/00datos/refs/heads/main/pension.csv) contains information about net financial assets (*net_tfa*) and participation in a 401(k) plan (*p401*), along with several additional individual characteristics: age, income, education, family size, marital status, having two earners in the household, having a defined benefit (DB) pension (a type of retirement plan where an employer guarantees a specified retirement amount), participation in an IRA (Individual Retirement Account, a type of retirement savings account with tax advantages), and homeownership. You can find more information about the variables [here](https://search.r-project.org/CRAN/refmans/hdm/html/pension.html).\n",
        "\n",
        "* Since saving preferences (which are unobservable) can directly affect net asset holdings and the decision to participate, and may also be correlated with observable characteristics (e.g., income), participation in 401(k) plans can be endogenous. However, it is possible to exploit randomness (conditional on confounding variables) in eligibility for 401(k) plans (*e401*). An instrumental variable (IV) approach could be used to estimate the causal effect, but in this case, we will focus on estimating the intention-to-treat effect.\n"
      ]
    },
    {
      "cell_type": "markdown",
      "metadata": {
        "id": "nALCc4k-_SIG"
      },
      "source": [
        "* Load the data and check the variables types."
      ]
    },
    {
      "cell_type": "code",
      "execution_count": null,
      "metadata": {
        "id": "abhQ4R9C-fWZ"
      },
      "outputs": [],
      "source": [
        "# Your code here"
      ]
    },
    {
      "cell_type": "markdown",
      "metadata": {
        "id": "UP_e2swp-m_U"
      },
      "source": [
        "## a)\n",
        "\n",
        "* Estimate using OLS a model to examine the effect of 401(k) eligibility on asset holdings, controlling for relevant confounding factors.\n",
        "\n",
        "* Carefully consider how each variable should enter the model (e.g., whether education should be treated as a continuous or categorical variable). Additionally, consider whether polynomial terms or interaction effects might be useful. There is no universally correct choice, but your decisions should be justified and applied consistently throughout the analysis.\n",
        "\n",
        "* Show the estimated intention-to-treat effect and its standard error and other relevant information to comment on the evidence on the results."
      ]
    },
    {
      "cell_type": "code",
      "execution_count": null,
      "metadata": {
        "id": "48QHDskV-m_Z"
      },
      "outputs": [],
      "source": [
        "# Your code here"
      ]
    },
    {
      "cell_type": "markdown",
      "metadata": {
        "id": "51_0gMCl-m_b"
      },
      "source": [
        "\n",
        "> Your comments here\n"
      ]
    },
    {
      "cell_type": "markdown",
      "metadata": {
        "id": "q8BlMUvxAnkC"
      },
      "source": [
        "## b)\n",
        "\n",
        "* Repeat the part a) but estimating now the model using LASSO."
      ]
    },
    {
      "cell_type": "code",
      "execution_count": null,
      "metadata": {
        "id": "hwQD4Th7AnkG"
      },
      "outputs": [],
      "source": [
        "# Your code here"
      ]
    },
    {
      "cell_type": "markdown",
      "metadata": {
        "id": "r6XsWy4cAnkJ"
      },
      "source": [
        "\n",
        "> Your comments here\n"
      ]
    },
    {
      "cell_type": "markdown",
      "metadata": {
        "id": "QJYEUIWfU1t0"
      },
      "source": [
        "## c)\n",
        "\n",
        "* Repeat the part a) again but using Double-selection LASSO.\n",
        "\n",
        "* Comment on the differences with the previous results and discuss your overall conclusion about the evidence."
      ]
    },
    {
      "cell_type": "code",
      "execution_count": null,
      "metadata": {
        "id": "XBmN-eTXA1TR"
      },
      "outputs": [],
      "source": [
        "# Your code here"
      ]
    },
    {
      "cell_type": "markdown",
      "metadata": {
        "id": "TylniXT4A1TU"
      },
      "source": [
        "\n",
        "> Your comments here\n"
      ]
    },
    {
      "cell_type": "markdown",
      "metadata": {
        "id": "p7npy_IzA1TO"
      },
      "source": [
        "## d)\n",
        "\n",
        "* Finally repeat the estimation of the ITT using Double ML with Random Forest.\n",
        "\n",
        "* Show the results and discuss"
      ]
    },
    {
      "cell_type": "code",
      "execution_count": null,
      "metadata": {
        "id": "kwvFy_PTg5iW"
      },
      "outputs": [],
      "source": [
        "# Your code here"
      ]
    },
    {
      "cell_type": "markdown",
      "metadata": {
        "id": "HCRSNukRV-8B"
      },
      "source": [
        "\n",
        "> Your comments here"
      ]
    }
  ],
  "metadata": {
    "colab": {
      "provenance": [],
      "include_colab_link": true
    },
    "kernelspec": {
      "display_name": "Python 3",
      "name": "python3"
    }
  },
  "nbformat": 4,
  "nbformat_minor": 0
}